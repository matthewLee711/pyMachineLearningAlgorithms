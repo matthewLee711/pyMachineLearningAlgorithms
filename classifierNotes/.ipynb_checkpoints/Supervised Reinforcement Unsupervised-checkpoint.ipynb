{
 "cells": [
  {
   "cell_type": "markdown",
   "metadata": {},
   "source": [
    "# Machine Learning: Supervised, Reinforcement, Unsupervised\n",
    "\n",
    "*Machine Learning* - \n",
    "Self learning algorithms\n",
    "\n",
    "## CH1\n",
    "\n",
    "## *Supervised Learning* \n",
    "*supervised learning* - learn a model from labeled *training* data that allows us to make predictions about unseen or future data.\n",
    "* supervised refers to a set of samples where the desired output signals (labels) are laready known\n",
    "\n",
    "### Subcategories:\n",
    "\n",
    "*classification task* - Predict the categorical class labels of new instances based on past observations. Those class labels are discrete, unordered values that can be understood as group memberships of the instances. (Assign categorical, unordered labels to instances)\n",
    "    * Ex. binary classification - spam and non spam emails. (Machine learning algo learns set of rules to distinguish two possible classes\n",
    "    * Ex. multi-class classification - handwritten character recognition. (Collect a training dataset taht consists of multiple handwritten examples of each letter in the alphabet.\n",
    "    \n",
    "*regression* - prediction of continuous outcomes. We are given a number of *predictor* (explanatory) variables and a continous response variable(outcome), and we try to find a relationship between those variables taht allow us to predict an outcome.\n",
    "    * Linear regression - Given a predictor variable *x* and response variable *y*, you can fit a straight line to this data\n",
    "    \n",
    "## *Reinforcement Learning*\n",
    "*reinfocement learning* - Goal is to develop a system (*agent*) that improves its performance based on interactions with the *environment*. Through the interaction with the environment, learning is achieved through maximizing actions through a reward function.\n",
    "    *Ex. Reward can be defined as win or lose\n",
    "\n",
    "## *Unsupervised Learning*\n",
    "*Unsupervised learning* -  explore the structure of our data to extract meaningful information without the guidance of a known vairable or reward funciton\n",
    "    * Clustering - an exploratory data analysis technique that allows organization of information into meaningul subgroups (*clusters*) w/o having any prior knowledge of their group memberships. Each cluster may arise during the analysis define a group of objects... Can be considered \"unsupervised classification\" \n",
    "    * dimensionality reduction - commonly used approach in feature preprocessing to remove noise from data.\n",
    "    \n",
    "## Definitions\n",
    "Samples :\n",
    "* Ex. instances, observations. Number of flowers\n",
    "\n",
    "Features :\n",
    "* Ex. attributes, measurements, dimensions. Petal length, petal width.\n",
    "\n",
    "Class labels :\n",
    "* Ex. targets. Name\n",
    "\n",
    "superscript - (i) refer to ith training sample\n",
    "Four dimensional column vector $ x^i R^{1x4} $\n",
    "\n",
    "$ x^i = [x_1^i x_2^i x_3^i x_4^i] $\n",
    "\n",
    "subscript - (j) refer to the jth dimension of the training set\n",
    "\n",
    "$\n",
    "x =\n",
    "        \\begin{bmatrix}\n",
    "        x_j^1 \\\\\n",
    "        x_j^2 \\\\\n",
    "        x_j^3 \\\\\n",
    "        \\end{bmatrix}\n",
    "$\n",
    "P10 really important"
   ]
  },
  {
   "cell_type": "markdown",
   "metadata": {},
   "source": [
    "# Roadmap for building machine learning systems\n",
    "\n",
    "Preprocessing --> Learning --> Evaluation --> Prediction P11 for good image\n",
    "\n",
    "## Learning \n",
    "Model selction, Cross validation, Performance Metrics, Hyperparameter optimization\n",
    "\n",
    "## Preprocessing\n",
    "Feature extraction and scaling, Feature Selection, Dimensionality Reduction, Sampling\n",
    "\n",
    "Some selected features may be highly correlated and therefore redundant to a certain degree. Dimensionality reduction techniques are useful for compressing the features onto a lower dimensional subspace. --> results in less storage space\n",
    "\n",
    "We also want to randomly divide the dataset into training and test set. \n",
    "* Training optimizes the machine learning model \n",
    "* Test is used to evaluate the final model\n",
    "\n",
    "### Training and selecting a predictive model\n",
    "\n",
    "Selection of model based on classification accuracy.\n",
    "\n",
    "How do we know which model performs well on the\n",
    "final test dataset and real-world data if we don't use this test set for the model selection but keep it for the final model evaluation?\n",
    "\n",
    "Cross validation:\n",
    "* dataset is further divided into training and *validation subsets* in order to estimate the *generalization performanc*e of the model.\n",
    "* Cannot expect that the default parameters of of diffferent learning lagorithms are optimal for specific task. Must use hyperparamter optimization techniques.\n",
    "\n"
   ]
  },
  {
   "cell_type": "code",
   "execution_count": null,
   "metadata": {
    "collapsed": true
   },
   "outputs": [],
   "source": []
  }
 ],
 "metadata": {
  "kernelspec": {
   "display_name": "Python 3",
   "language": "python",
   "name": "python3"
  },
  "language_info": {
   "codemirror_mode": {
    "name": "ipython",
    "version": 3
   },
   "file_extension": ".py",
   "mimetype": "text/x-python",
   "name": "python",
   "nbconvert_exporter": "python",
   "pygments_lexer": "ipython3",
   "version": "3.5.1"
  }
 },
 "nbformat": 4,
 "nbformat_minor": 0
}
